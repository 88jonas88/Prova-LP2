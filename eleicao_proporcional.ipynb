{
 "cells": [
  {
   "cell_type": "markdown",
   "metadata": {},
   "source": [
    "#### Importação de bibliotecas"
   ]
  },
  {
   "cell_type": "code",
   "execution_count": 1,
   "metadata": {},
   "outputs": [],
   "source": [
    "import pandas as pd"
   ]
  },
  {
   "cell_type": "markdown",
   "metadata": {},
   "source": [
    "#### Leitura do arquivo csv"
   ]
  },
  {
   "cell_type": "code",
   "execution_count": 28,
   "metadata": {},
   "outputs": [
    {
     "data": {
      "text/html": [
       "<div>\n",
       "<style scoped>\n",
       "    .dataframe tbody tr th:only-of-type {\n",
       "        vertical-align: middle;\n",
       "    }\n",
       "\n",
       "    .dataframe tbody tr th {\n",
       "        vertical-align: top;\n",
       "    }\n",
       "\n",
       "    .dataframe thead th {\n",
       "        text-align: right;\n",
       "    }\n",
       "</style>\n",
       "<table border=\"1\" class=\"dataframe\">\n",
       "  <thead>\n",
       "    <tr style=\"text-align: right;\">\n",
       "      <th></th>\n",
       "      <th>Número</th>\n",
       "      <th>Nome</th>\n",
       "      <th>Partido/Coligação</th>\n",
       "      <th>Votos</th>\n",
       "    </tr>\n",
       "  </thead>\n",
       "  <tbody>\n",
       "    <tr>\n",
       "      <th>0</th>\n",
       "      <td>10000</td>\n",
       "      <td>ANTONIO JUNIOR</td>\n",
       "      <td>PRB - PRB / PSDC</td>\n",
       "      <td>434</td>\n",
       "    </tr>\n",
       "    <tr>\n",
       "      <th>1</th>\n",
       "      <td>10010</td>\n",
       "      <td>CIDINHA</td>\n",
       "      <td>PRB - PRB / PSDC</td>\n",
       "      <td>36</td>\n",
       "    </tr>\n",
       "    <tr>\n",
       "      <th>2</th>\n",
       "      <td>10100</td>\n",
       "      <td>GABRIEL NEGREIROS</td>\n",
       "      <td>PRB - PRB / PSDC</td>\n",
       "      <td>280</td>\n",
       "    </tr>\n",
       "    <tr>\n",
       "      <th>3</th>\n",
       "      <td>10111</td>\n",
       "      <td>JÚNIOR FRANÇA</td>\n",
       "      <td>PRB - PRB / PSDC</td>\n",
       "      <td>568</td>\n",
       "    </tr>\n",
       "    <tr>\n",
       "      <th>4</th>\n",
       "      <td>10123</td>\n",
       "      <td>PROFª MADALENA PEIXOTO</td>\n",
       "      <td>PRB - PRB / PSDC</td>\n",
       "      <td>382</td>\n",
       "    </tr>\n",
       "  </tbody>\n",
       "</table>\n",
       "</div>"
      ],
      "text/plain": [
       "   Número                    Nome Partido/Coligação  Votos\n",
       "0   10000          ANTONIO JUNIOR  PRB - PRB / PSDC    434\n",
       "1   10010                 CIDINHA  PRB - PRB / PSDC     36\n",
       "2   10100       GABRIEL NEGREIROS  PRB - PRB / PSDC    280\n",
       "3   10111           JÚNIOR FRANÇA  PRB - PRB / PSDC    568\n",
       "4   10123  PROFª MADALENA PEIXOTO  PRB - PRB / PSDC    382"
      ]
     },
     "execution_count": 28,
     "metadata": {},
     "output_type": "execute_result"
    }
   ],
   "source": [
    "data =  pd.read_csv('eleicao.csv', sep=';')\n",
    "data.head()"
   ]
  },
  {
   "cell_type": "markdown",
   "metadata": {},
   "source": [
    "#### Variaveis predefinidas"
   ]
  },
  {
   "cell_type": "code",
   "execution_count": 3,
   "metadata": {},
   "outputs": [],
   "source": [
    "total_vagas = 29\n",
    "QE = 12684"
   ]
  },
  {
   "cell_type": "markdown",
   "metadata": {},
   "source": [
    "#### Filtragem de coligações"
   ]
  },
  {
   "cell_type": "code",
   "execution_count": 4,
   "metadata": {},
   "outputs": [],
   "source": [
    "coligacoes = []\n",
    "\n",
    "for i in data['Partido/Coligação']:\n",
    "    elemento = i.split('-')\n",
    "    if len(elemento) == 2:\n",
    "        coligacoes.append(elemento[1][1:])\n",
    "    else:\n",
    "        coligacoes.append(elemento[0])\n",
    "        \n",
    "data['coligacoes'] = coligacoes"
   ]
  },
  {
   "cell_type": "markdown",
   "metadata": {},
   "source": [
    "#### Quantidade de votos de cada partido"
   ]
  },
  {
   "cell_type": "code",
   "execution_count": 5,
   "metadata": {},
   "outputs": [],
   "source": [
    "coligacoes_e_votos = {}\n",
    "\n",
    "for i, j in enumerate(coligacoes):\n",
    "    if j in coligacoes_e_votos :\n",
    "        coligacoes_e_votos [j] += data['Votos'][i]\n",
    "    else:\n",
    "        coligacoes_e_votos [j] = data['Votos'][i]"
   ]
  },
  {
   "cell_type": "markdown",
   "metadata": {},
   "source": [
    "#### Calculo do QP"
   ]
  },
  {
   "cell_type": "code",
   "execution_count": 6,
   "metadata": {},
   "outputs": [],
   "source": [
    "QP = {key: int(value / QE) for key, value in coligacoes_e_votos.items() \n",
    "      if int(value / QE) > 0}"
   ]
  },
  {
   "cell_type": "markdown",
   "metadata": {},
   "source": [
    "#### Calculo das vagas ocupadas e restantes"
   ]
  },
  {
   "cell_type": "code",
   "execution_count": 7,
   "metadata": {},
   "outputs": [],
   "source": [
    "vagas_ocupadas =  sum(QP.values())\n",
    "vagas_restantes = total_vagas - vagas_ocupadas"
   ]
  },
  {
   "cell_type": "markdown",
   "metadata": {},
   "source": [
    "#### Distribuição das vagas restantes"
   ]
  },
  {
   "cell_type": "code",
   "execution_count": 8,
   "metadata": {
    "scrolled": true
   },
   "outputs": [],
   "source": [
    "for i in range(vagas_restantes):\n",
    "    media = {key : coligacoes_e_votos[key] / (value+1) for key, value in QP.items()}\n",
    "    partido_vencedor = max(media, key=media.get)\n",
    "    QP[partido_vencedor] += 1"
   ]
  },
  {
   "cell_type": "markdown",
   "metadata": {},
   "source": [
    "#### Ranking de candidatos"
   ]
  },
  {
   "cell_type": "code",
   "execution_count": 15,
   "metadata": {},
   "outputs": [],
   "source": [
    "data_ordenado = data.sort_values(by='Votos', ascending=False)\n",
    "\n",
    "frames = []\n",
    "\n",
    "for key, value in QP.items():\n",
    "    partido_atual = data_ordenado[data_ordenado['coligacoes'] == key]\n",
    "    frames.append(partido_atual.iloc[0:value])\n",
    "    \n",
    "resultado = pd.concat(frames).sort_values(by='Votos', \n",
    "                                          ascending=False).drop('coligacoes', axis=1)"
   ]
  },
  {
   "cell_type": "markdown",
   "metadata": {},
   "source": [
    "#### Impressão de aquivo .tsv"
   ]
  },
  {
   "cell_type": "code",
   "execution_count": 22,
   "metadata": {},
   "outputs": [],
   "source": [
    "resultado.to_csv('resultado.tsv', sep='\\t', encoding='utf-8', index = False, header=False)"
   ]
  },
  {
   "cell_type": "markdown",
   "metadata": {},
   "source": [
    "#### Saida do arquivo resultado.tsv"
   ]
  },
  {
   "cell_type": "code",
   "execution_count": 23,
   "metadata": {
    "scrolled": true
   },
   "outputs": [
    {
     "data": {
      "text/html": [
       "<div>\n",
       "<style scoped>\n",
       "    .dataframe tbody tr th:only-of-type {\n",
       "        vertical-align: middle;\n",
       "    }\n",
       "\n",
       "    .dataframe tbody tr th {\n",
       "        vertical-align: top;\n",
       "    }\n",
       "\n",
       "    .dataframe thead th {\n",
       "        text-align: right;\n",
       "    }\n",
       "</style>\n",
       "<table border=\"1\" class=\"dataframe\">\n",
       "  <thead>\n",
       "    <tr style=\"text-align: right;\">\n",
       "      <th></th>\n",
       "      <th>Número</th>\n",
       "      <th>Nome</th>\n",
       "      <th>Partido/Coligação</th>\n",
       "      <th>Votos</th>\n",
       "    </tr>\n",
       "  </thead>\n",
       "  <tbody>\n",
       "    <tr>\n",
       "      <th>26</th>\n",
       "      <td>12111</td>\n",
       "      <td>RANIERE BARBOSA</td>\n",
       "      <td>PDT - PDT / PMDB / PR / PROS / DEM / PSC</td>\n",
       "      <td>10510</td>\n",
       "    </tr>\n",
       "    <tr>\n",
       "      <th>561</th>\n",
       "      <td>90111</td>\n",
       "      <td>CARLA DICKSON OFTALMOLOGISTA</td>\n",
       "      <td>PROS - PDT / PMDB / PR / PROS / DEM / PSC</td>\n",
       "      <td>7924</td>\n",
       "    </tr>\n",
       "    <tr>\n",
       "      <th>72</th>\n",
       "      <td>15222</td>\n",
       "      <td>UBALDO FERNANDES</td>\n",
       "      <td>PMDB - PDT / PMDB / PR / PROS / DEM / PSC</td>\n",
       "      <td>7574</td>\n",
       "    </tr>\n",
       "    <tr>\n",
       "      <th>141</th>\n",
       "      <td>22607</td>\n",
       "      <td>LUIZ ALMIR</td>\n",
       "      <td>PR - PDT / PMDB / PR / PROS / DEM / PSC</td>\n",
       "      <td>7339</td>\n",
       "    </tr>\n",
       "    <tr>\n",
       "      <th>50</th>\n",
       "      <td>13123</td>\n",
       "      <td>NATALIA BONAVIDES</td>\n",
       "      <td>PT</td>\n",
       "      <td>6202</td>\n",
       "    </tr>\n",
       "    <tr>\n",
       "      <th>41</th>\n",
       "      <td>12777</td>\n",
       "      <td>JULIA ARRUDA</td>\n",
       "      <td>PDT - PDT / PMDB / PR / PROS / DEM / PSC</td>\n",
       "      <td>5765</td>\n",
       "    </tr>\n",
       "    <tr>\n",
       "      <th>184</th>\n",
       "      <td>27888</td>\n",
       "      <td>ANA PAULA</td>\n",
       "      <td>PSDC - PRB / PSDC</td>\n",
       "      <td>5465</td>\n",
       "    </tr>\n",
       "    <tr>\n",
       "      <th>10</th>\n",
       "      <td>10333</td>\n",
       "      <td>BISPO FRANCISCO DE ASSIS</td>\n",
       "      <td>PRB - PRB / PSDC</td>\n",
       "      <td>5160</td>\n",
       "    </tr>\n",
       "    <tr>\n",
       "      <th>32</th>\n",
       "      <td>12222</td>\n",
       "      <td>KLEBER FERNANDES</td>\n",
       "      <td>PDT - PDT / PMDB / PR / PROS / DEM / PSC</td>\n",
       "      <td>5061</td>\n",
       "    </tr>\n",
       "    <tr>\n",
       "      <th>549</th>\n",
       "      <td>77666</td>\n",
       "      <td>EUDIANE MACEDO</td>\n",
       "      <td>SD</td>\n",
       "      <td>4922</td>\n",
       "    </tr>\n",
       "    <tr>\n",
       "      <th>37</th>\n",
       "      <td>12444</td>\n",
       "      <td>CHAGAS CATARINO</td>\n",
       "      <td>PDT - PDT / PMDB / PR / PROS / DEM / PSC</td>\n",
       "      <td>4810</td>\n",
       "    </tr>\n",
       "    <tr>\n",
       "      <th>363</th>\n",
       "      <td>45123</td>\n",
       "      <td>AROLDO ALVES</td>\n",
       "      <td>PSDB - PSDB / PT do B</td>\n",
       "      <td>4532</td>\n",
       "    </tr>\n",
       "    <tr>\n",
       "      <th>74</th>\n",
       "      <td>15678</td>\n",
       "      <td>FELIPE ALVES</td>\n",
       "      <td>PMDB - PDT / PMDB / PR / PROS / DEM / PSC</td>\n",
       "      <td>4511</td>\n",
       "    </tr>\n",
       "    <tr>\n",
       "      <th>503</th>\n",
       "      <td>70111</td>\n",
       "      <td>WILMA DE FARIA</td>\n",
       "      <td>PT do B - PSDB / PT do B</td>\n",
       "      <td>4421</td>\n",
       "    </tr>\n",
       "    <tr>\n",
       "      <th>443</th>\n",
       "      <td>51610</td>\n",
       "      <td>PRETO AQUINO</td>\n",
       "      <td>PEN - PEN / PP</td>\n",
       "      <td>4206</td>\n",
       "    </tr>\n",
       "    <tr>\n",
       "      <th>300</th>\n",
       "      <td>40200</td>\n",
       "      <td>DR FRANKLIN CAPISTRANO</td>\n",
       "      <td>PSB - PSB / PPS</td>\n",
       "      <td>4003</td>\n",
       "    </tr>\n",
       "    <tr>\n",
       "      <th>88</th>\n",
       "      <td>17555</td>\n",
       "      <td>PROFESSORA ELEIKA</td>\n",
       "      <td>PSL - PSD / PTB / PSL</td>\n",
       "      <td>3758</td>\n",
       "    </tr>\n",
       "    <tr>\n",
       "      <th>388</th>\n",
       "      <td>50123</td>\n",
       "      <td>SANDRO PIMENTEL</td>\n",
       "      <td>PSOL</td>\n",
       "      <td>3700</td>\n",
       "    </tr>\n",
       "    <tr>\n",
       "      <th>64</th>\n",
       "      <td>14000</td>\n",
       "      <td>CÍCERO MARTINS</td>\n",
       "      <td>PTB - PSD / PTB / PSL</td>\n",
       "      <td>3237</td>\n",
       "    </tr>\n",
       "    <tr>\n",
       "      <th>464</th>\n",
       "      <td>55555</td>\n",
       "      <td>NEY LOPES JR</td>\n",
       "      <td>PSD - PSD / PTB / PSL</td>\n",
       "      <td>3197</td>\n",
       "    </tr>\n",
       "    <tr>\n",
       "      <th>534</th>\n",
       "      <td>77222</td>\n",
       "      <td>PAULINHO FREIRE</td>\n",
       "      <td>SD</td>\n",
       "      <td>2884</td>\n",
       "    </tr>\n",
       "    <tr>\n",
       "      <th>242</th>\n",
       "      <td>35007</td>\n",
       "      <td>DINARTE TORRES</td>\n",
       "      <td>PMB</td>\n",
       "      <td>2754</td>\n",
       "    </tr>\n",
       "    <tr>\n",
       "      <th>110</th>\n",
       "      <td>19133</td>\n",
       "      <td>ERIKO JÁCOME</td>\n",
       "      <td>PTN</td>\n",
       "      <td>2577</td>\n",
       "    </tr>\n",
       "    <tr>\n",
       "      <th>271</th>\n",
       "      <td>35555</td>\n",
       "      <td>ROBSON CARVALHO</td>\n",
       "      <td>PMB</td>\n",
       "      <td>2565</td>\n",
       "    </tr>\n",
       "    <tr>\n",
       "      <th>54</th>\n",
       "      <td>13222</td>\n",
       "      <td>FERNANDO LUCENA</td>\n",
       "      <td>PT</td>\n",
       "      <td>2495</td>\n",
       "    </tr>\n",
       "    <tr>\n",
       "      <th>422</th>\n",
       "      <td>51111</td>\n",
       "      <td>NINA SOUZA</td>\n",
       "      <td>PEN - PEN / PP</td>\n",
       "      <td>2289</td>\n",
       "    </tr>\n",
       "    <tr>\n",
       "      <th>545</th>\n",
       "      <td>77555</td>\n",
       "      <td>KLAUS ARAUJO</td>\n",
       "      <td>SD</td>\n",
       "      <td>2279</td>\n",
       "    </tr>\n",
       "    <tr>\n",
       "      <th>274</th>\n",
       "      <td>35678</td>\n",
       "      <td>ALDO CLEMENTE</td>\n",
       "      <td>PMB</td>\n",
       "      <td>2229</td>\n",
       "    </tr>\n",
       "    <tr>\n",
       "      <th>218</th>\n",
       "      <td>31456</td>\n",
       "      <td>SUELDO MEDEIROS</td>\n",
       "      <td>PHS</td>\n",
       "      <td>1829</td>\n",
       "    </tr>\n",
       "  </tbody>\n",
       "</table>\n",
       "</div>"
      ],
      "text/plain": [
       "     Número                          Nome  \\\n",
       "26    12111               RANIERE BARBOSA   \n",
       "561   90111  CARLA DICKSON OFTALMOLOGISTA   \n",
       "72    15222              UBALDO FERNANDES   \n",
       "141   22607                    LUIZ ALMIR   \n",
       "50    13123             NATALIA BONAVIDES   \n",
       "41    12777                  JULIA ARRUDA   \n",
       "184   27888                     ANA PAULA   \n",
       "10    10333      BISPO FRANCISCO DE ASSIS   \n",
       "32    12222              KLEBER FERNANDES   \n",
       "549   77666                EUDIANE MACEDO   \n",
       "37    12444               CHAGAS CATARINO   \n",
       "363   45123                  AROLDO ALVES   \n",
       "74    15678                  FELIPE ALVES   \n",
       "503   70111                WILMA DE FARIA   \n",
       "443   51610                  PRETO AQUINO   \n",
       "300   40200        DR FRANKLIN CAPISTRANO   \n",
       "88    17555             PROFESSORA ELEIKA   \n",
       "388   50123               SANDRO PIMENTEL   \n",
       "64    14000                CÍCERO MARTINS   \n",
       "464   55555                  NEY LOPES JR   \n",
       "534   77222               PAULINHO FREIRE   \n",
       "242   35007                DINARTE TORRES   \n",
       "110   19133                  ERIKO JÁCOME   \n",
       "271   35555               ROBSON CARVALHO   \n",
       "54    13222               FERNANDO LUCENA   \n",
       "422   51111                    NINA SOUZA   \n",
       "545   77555                  KLAUS ARAUJO   \n",
       "274   35678                 ALDO CLEMENTE   \n",
       "218   31456               SUELDO MEDEIROS   \n",
       "\n",
       "                             Partido/Coligação  Votos  \n",
       "26    PDT - PDT / PMDB / PR / PROS / DEM / PSC  10510  \n",
       "561  PROS - PDT / PMDB / PR / PROS / DEM / PSC   7924  \n",
       "72   PMDB - PDT / PMDB / PR / PROS / DEM / PSC   7574  \n",
       "141    PR - PDT / PMDB / PR / PROS / DEM / PSC   7339  \n",
       "50                                          PT   6202  \n",
       "41    PDT - PDT / PMDB / PR / PROS / DEM / PSC   5765  \n",
       "184                          PSDC - PRB / PSDC   5465  \n",
       "10                            PRB - PRB / PSDC   5160  \n",
       "32    PDT - PDT / PMDB / PR / PROS / DEM / PSC   5061  \n",
       "549                                         SD   4922  \n",
       "37    PDT - PDT / PMDB / PR / PROS / DEM / PSC   4810  \n",
       "363                      PSDB - PSDB / PT do B   4532  \n",
       "74   PMDB - PDT / PMDB / PR / PROS / DEM / PSC   4511  \n",
       "503                   PT do B - PSDB / PT do B   4421  \n",
       "443                             PEN - PEN / PP   4206  \n",
       "300                            PSB - PSB / PPS   4003  \n",
       "88                       PSL - PSD / PTB / PSL   3758  \n",
       "388                                       PSOL   3700  \n",
       "64                       PTB - PSD / PTB / PSL   3237  \n",
       "464                      PSD - PSD / PTB / PSL   3197  \n",
       "534                                         SD   2884  \n",
       "242                                        PMB   2754  \n",
       "110                                        PTN   2577  \n",
       "271                                        PMB   2565  \n",
       "54                                          PT   2495  \n",
       "422                             PEN - PEN / PP   2289  \n",
       "545                                         SD   2279  \n",
       "274                                        PMB   2229  \n",
       "218                                        PHS   1829  "
      ]
     },
     "execution_count": 23,
     "metadata": {},
     "output_type": "execute_result"
    }
   ],
   "source": [
    "resultado"
   ]
  }
 ],
 "metadata": {
  "kernelspec": {
   "display_name": "Python 3",
   "language": "python",
   "name": "python3"
  },
  "language_info": {
   "codemirror_mode": {
    "name": "ipython",
    "version": 3
   },
   "file_extension": ".py",
   "mimetype": "text/x-python",
   "name": "python",
   "nbconvert_exporter": "python",
   "pygments_lexer": "ipython3",
   "version": "3.6.5"
  }
 },
 "nbformat": 4,
 "nbformat_minor": 2
}
